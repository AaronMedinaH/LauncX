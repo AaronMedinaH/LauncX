{
 "cells": [
  {
   "cell_type": "markdown",
   "metadata": {},
   "source": [
    "### Ejercicio1 - Utilizar operadores aritméticos"
   ]
  },
  {
   "cell_type": "code",
   "execution_count": 6,
   "metadata": {},
   "outputs": [
    {
     "name": "stdout",
     "output_type": "stream",
     "text": [
      "628949330 kilometros de distancia\n",
      "390577533.93 millas de distancia\n"
     ]
    }
   ],
   "source": [
    "d_t= 149597870\n",
    "d_j= 778547200\n",
    "\n",
    "d_bp= d_j - d_t\n",
    "print(d_bp, \"kilometros de distancia\")\n",
    "print(d_bp*0.621, \"millas de distancia\")"
   ]
  },
  {
   "cell_type": "markdown",
   "metadata": {},
   "source": [
    "### Ejercicio 2: convierte cadenas en números y usa valores absolutos\n",
    "#### Crear una aplicación para trabajar con números y entrada de usuario"
   ]
  },
  {
   "cell_type": "code",
   "execution_count": 8,
   "metadata": {},
   "outputs": [
    {
     "name": "stdout",
     "output_type": "stream",
     "text": [
      "La distancia en Kilimetros entre ambos panetas es de:  1283900000\n",
      "La distancia en Millas entre ambos planetas es de:  797301900.0\n"
     ]
    }
   ],
   "source": [
    "d_p1= int(input(\"La distancia entre el Sol y el primer planeta es de: \"))\n",
    "d_ptwo= int(input(\"La distancia entre el Sol y el segundo planeta es de :\"))\n",
    "\n",
    "d_apkm= abs(d_p1-d_ptwo)\n",
    "\n",
    "print(\"La distancia en Kilimetros entre ambos panetas es de: \",d_apkm)\n",
    "print(\"La distancia en Millas entre ambos planetas es de: \", d_apkm*0.621)"
   ]
  }
 ],
 "metadata": {
  "interpreter": {
   "hash": "043c419c123e2a651b4ec2ac750ff88e663f41ffa47bfb5af375ad20bb3d66bb"
  },
  "kernelspec": {
   "display_name": "Python 3.9.10 64-bit",
   "language": "python",
   "name": "python3"
  },
  "language_info": {
   "codemirror_mode": {
    "name": "ipython",
    "version": 3
   },
   "file_extension": ".py",
   "mimetype": "text/x-python",
   "name": "python",
   "nbconvert_exporter": "python",
   "pygments_lexer": "ipython3",
   "version": "3.9.10"
  },
  "orig_nbformat": 4
 },
 "nbformat": 4,
 "nbformat_minor": 2
}
