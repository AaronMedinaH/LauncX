{
 "cells": [
  {
   "cell_type": "markdown",
   "metadata": {},
   "source": [
    "# Ejercicio 1: Transformar cadenas"
   ]
  },
  {
   "cell_type": "code",
   "execution_count": 9,
   "metadata": {},
   "outputs": [
    {
     "name": "stdout",
     "output_type": "stream",
     "text": [
      "\n",
      "On average, the Moon moves 4cm away from the Earth every year\n",
      "This yearly drift is not significant enough to cause immediate effects on Earth\n",
      "The highest daylight temperature of the Moon is 127 C.\n",
      "\n",
      "On average, the Moon moves 4cm away from the Earth every year\n",
      "This yearly drift is not significant enough to cause immediate effects on Earth\n",
      "The highest daylight temperature of the Moon is 127 Celius.\n"
     ]
    }
   ],
   "source": [
    "text = \"\"\"Interesting facts about the Moon. The Moon is Earth's only satellite. There are several interesting facts about the Moon and how it affects life here on Earth. \n",
    "On average, the Moon moves 4cm away from the Earth every year. This yearly drift is not significant enough to cause immediate effects on Earth. The highest daylight temperature of the Moon is 127 C.\"\"\"\n",
    "\n",
    "txtdiv = text.split(\". \")\n",
    "pal_clv=[\"average\", \"temperature\", \"effects\"]\n",
    "\n",
    "for oracion in txtdiv:\n",
    "    for pclv in pal_clv:\n",
    "        if pclv in oracion:\n",
    "            print(oracion)\n",
    "            break\n",
    "\n",
    "for oracion in txtdiv:\n",
    "    for pclv in pal_clv:\n",
    "        if pclv in oracion:\n",
    "            print(oracion.replace(\"C\", \"Celius\"))\n",
    "            break\n"
   ]
  },
  {
   "cell_type": "markdown",
   "metadata": {},
   "source": [
    "# Ejercicio 2: Formateando Cadenas"
   ]
  },
  {
   "cell_type": "code",
   "execution_count": 53,
   "metadata": {},
   "outputs": [
    {
     "name": "stdout",
     "output_type": "stream",
     "text": [
      "Fuerza de gravedad entre Earth Y Su Luna \n",
      "--------------------------------------------------\n",
      "Planet Name: Earth\n",
      "Gravity on Moon: 1.6199999999999999 m/s^2\n",
      "\n",
      "Fuerza de gravedad entre Marte  y su luna \n",
      "------------------------------------------------------------------------------------------------\n",
      "Planet Name: Marte \n",
      "Gravity on Ganímedes: 1.4300000000000002 m/s^2\n"
     ]
    }
   ],
   "source": [
    "name = \"Moon\"\n",
    "gravity = 0.00162 # in kms\n",
    "planet = \"Earth\"\n",
    "#Nuevos datos\n",
    "planeta = 'Marte '\n",
    "gravedad  = 0.00143\n",
    "nombre = 'Ganímedes'\n",
    "\n",
    "title=\"Fuerza de gravedad entre \" + planet +\" y su luna\".title()\n",
    "#plantilla = title + \"\\n\" + \"-\"*50 + \"\\n Planet Name: \" + planet + \"\\n Gravity on \" + name + \": \" + str(gravity*1000) + \" m/s^2\"\n",
    "\n",
    "plantillaf = f\"\"\"{title} \n",
    "{\"-\"*50}\n",
    "Planet Name: {planet}\n",
    "Gravity on {name}: {gravity*1000} m/s^2\"\"\"\n",
    "print(plantillaf)\n",
    "\n",
    "segplantilla = \"\"\"\n",
    "Fuerza de gravedad entre {planet} y su luna \n",
    "------------------------------------------------------------------------------------------------\n",
    "Planet Name: {planet}\n",
    "Gravity on {name}: {gravity} m/s^2\"\"\"\n",
    "\n",
    "print(segplantilla.format(planet = planeta, name = nombre, gravity = gravedad*1000))\n"
   ]
  }
 ],
 "metadata": {
  "interpreter": {
   "hash": "043c419c123e2a651b4ec2ac750ff88e663f41ffa47bfb5af375ad20bb3d66bb"
  },
  "kernelspec": {
   "display_name": "Python 3.9.10 64-bit",
   "language": "python",
   "name": "python3"
  },
  "language_info": {
   "codemirror_mode": {
    "name": "ipython",
    "version": 3
   },
   "file_extension": ".py",
   "mimetype": "text/x-python",
   "name": "python",
   "nbconvert_exporter": "python",
   "pygments_lexer": "ipython3",
   "version": "3.9.10"
  },
  "orig_nbformat": 4
 },
 "nbformat": 4,
 "nbformat_minor": 2
}
