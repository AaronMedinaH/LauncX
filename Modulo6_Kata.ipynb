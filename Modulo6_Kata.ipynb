{
 "cells": [
  {
   "cell_type": "markdown",
   "metadata": {},
   "source": [
    "## Ejercicio1: Crear y usar listas de Python\n",
    "#### Ejercicio: Usar listas para almacenar nombres de planetas"
   ]
  },
  {
   "cell_type": "code",
   "execution_count": 6,
   "metadata": {},
   "outputs": [
    {
     "name": "stdout",
     "output_type": "stream",
     "text": [
      "El número de planetas es 9 el último planeta es Plutón\n"
     ]
    }
   ],
   "source": [
    "planets =  [\"Mercurio\", \"Venus\", \"Tierra\", \"Marte\", \"Jupiter\", \"Saturno\", \"Urano\", \"Neptuno\"]\n",
    "\n",
    "planets.append(\"Plutón\")\n",
    "print(\"El número de planetas es\", len(planets), \"el último planeta es\" , planets[-1])"
   ]
  },
  {
   "cell_type": "markdown",
   "metadata": {},
   "source": [
    "## Ejercicio 2: Trabajando con datos de una lista\n",
    "#### Usar slices para recuperar partes de una lista"
   ]
  },
  {
   "cell_type": "code",
   "execution_count": 6,
   "metadata": {},
   "outputs": [
    {
     "name": "stdout",
     "output_type": "stream",
     "text": [
      "1\n",
      "Se seleccionó Venus , pero estos planetas esta mas cerca del sol: ['Mercury']\n",
      "Se seleccionó Venus , pero estos planetas esta mas alejados del sol: ['Earth', 'Mars', 'Jupiter', 'Saturn', 'Neptune']\n"
     ]
    }
   ],
   "source": [
    "planets = ['Mercury', 'Venus', 'Earth', 'Mars', 'Jupiter', 'Saturn', 'Neptune']\n",
    "\n",
    "plnt_select = input(\"Ingresa el nombre de un planeta (Por favor coloca la primer letra en mayúsculas)\")\n",
    "plnt_index = planets.index(plnt_select)\n",
    "print(plnt_index)\n",
    "\n",
    "print(\"Se seleccionó\",plnt_select, \", pero estos planetas esta mas cerca del sol:\", planets[0:plnt_index])\n",
    "print(\"Se seleccionó\",plnt_select, \", pero estos planetas esta mas alejados del sol:\", planets[plnt_index+1:len(planets)])"
   ]
  }
 ],
 "metadata": {
  "interpreter": {
   "hash": "043c419c123e2a651b4ec2ac750ff88e663f41ffa47bfb5af375ad20bb3d66bb"
  },
  "kernelspec": {
   "display_name": "Python 3.9.10 64-bit",
   "language": "python",
   "name": "python3"
  },
  "language_info": {
   "codemirror_mode": {
    "name": "ipython",
    "version": 3
   },
   "file_extension": ".py",
   "mimetype": "text/x-python",
   "name": "python",
   "nbconvert_exporter": "python",
   "pygments_lexer": "ipython3",
   "version": "3.9.10"
  },
  "orig_nbformat": 4
 },
 "nbformat": 4,
 "nbformat_minor": 2
}
