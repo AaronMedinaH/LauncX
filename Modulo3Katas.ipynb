{
 "cells": [
  {
   "cell_type": "markdown",
   "metadata": {},
   "source": [
    "# Ejercicio - Escribir declaraciones if, else, y elif"
   ]
  },
  {
   "cell_type": "markdown",
   "metadata": {},
   "source": [
    "### Ejercicio 1"
   ]
  },
  {
   "cell_type": "code",
   "execution_count": 42,
   "metadata": {},
   "outputs": [
    {
     "name": "stdout",
     "output_type": "stream",
     "text": [
      "¡ADVERTENCIA!, se acerca un asteroide a una gran velocidad...\n"
     ]
    }
   ],
   "source": [
    "Vel_asteroide =49 #km/s\n",
    "if Vel_asteroide >25:\n",
    "    print(\"¡ADVERTENCIA!, se acerca un asteroide a una gran velocidad...\")\n",
    "else:\n",
    "    print(\"Se detectó un asteroide a velocidad aceptable, todo esta bien...\")"
   ]
  },
  {
   "cell_type": "markdown",
   "metadata": {},
   "source": [
    "### Ejercicio 2"
   ]
  },
  {
   "cell_type": "code",
   "execution_count": 41,
   "metadata": {},
   "outputs": [
    {
     "name": "stdout",
     "output_type": "stream",
     "text": [
      "Un asteroide acaba de pasar y nadie se dió cuenta...\n"
     ]
    }
   ],
   "source": [
    "Vel_asteroide =19\n",
    "if Vel_asteroide >= 20:\n",
    "    print(\"Un gran rayo de luz verde ha aparecido en el cielo, OH NO ¿será un asteroide?\")\n",
    "else:\n",
    "    print(\"Un asteroide acaba de pasar y nadie se dió cuenta...\")"
   ]
  },
  {
   "cell_type": "markdown",
   "metadata": {},
   "source": [
    "### Ejercicio 3"
   ]
  },
  {
   "cell_type": "code",
   "execution_count": 40,
   "metadata": {},
   "outputs": [
    {
     "name": "stdout",
     "output_type": "stream",
     "text": [
      "Se acerca un gran asteroide a baja velocidad, ¡¡¡todos alerta!!! \n"
     ]
    }
   ],
   "source": [
    "Vel_asteroide =20\n",
    "Size_asteroide =26\n",
    "if Vel_asteroide <=25 and Size_asteroide <=25:\n",
    "    print(\"Mira en el cielo, un espectáculo de luces verdes :O\")\n",
    "elif Size_asteroide <25 and Vel_asteroide >25:\n",
    "    print(\"Se acerca un pequeño asteroide a gran velocidad, ¡¡¡todos alerta!!! \")\n",
    "elif Vel_asteroide <25 and Size_asteroide >25:\n",
    "    print(\"Se acerca un gran asteroide a baja velocidad, ¡¡¡todos alerta!!! \")    \n",
    "elif Size_asteroide >25 and Vel_asteroide>25:\n",
    "    print(\"¡ADVERTENCIA!, UN ASTEROIDE GIGANTE SE ACERCA A GRAN VELOCIDAD\")\n",
    "   \n"
   ]
  }
 ],
 "metadata": {
  "interpreter": {
   "hash": "043c419c123e2a651b4ec2ac750ff88e663f41ffa47bfb5af375ad20bb3d66bb"
  },
  "kernelspec": {
   "display_name": "Python 3.9.10 64-bit",
   "language": "python",
   "name": "python3"
  },
  "language_info": {
   "codemirror_mode": {
    "name": "ipython",
    "version": 3
   },
   "file_extension": ".py",
   "mimetype": "text/x-python",
   "name": "python",
   "nbconvert_exporter": "python",
   "pygments_lexer": "ipython3",
   "version": "3.9.10"
  },
  "orig_nbformat": 4
 },
 "nbformat": 4,
 "nbformat_minor": 2
}
