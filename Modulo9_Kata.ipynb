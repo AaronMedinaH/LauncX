{
 "cells": [
  {
   "cell_type": "markdown",
   "metadata": {},
   "source": [
    "# Ejercicio: Uso de funciones en Python\n",
    "### Ejercicio 1: Trabajar con argumentos en funciones"
   ]
  },
  {
   "cell_type": "code",
   "execution_count": 9,
   "metadata": {},
   "outputs": [
    {
     "name": "stdout",
     "output_type": "stream",
     "text": [
      "Los tanques tiene  el siguiente porcentaje de combustible: \n",
      "    Tanque 1: 85\n",
      "    Tanque 2: 73\n",
      "    Tanque 3: 76\n",
      "El promedio total de comnustible es:  78.0 %\n"
     ]
    }
   ],
   "source": [
    "def reporte_gas(tq1,tq2,tq3):\n",
    "    print(f\"\"\"Los tanques tiene  el siguiente porcentaje de combustible: \n",
    "    Tanque 1: {tq1}\n",
    "    Tanque 2: {tq2}\n",
    "    Tanque 3: {tq3}\"\"\")\n",
    "    gas_prom([tq1,tq2,tq3])\n",
    "\n",
    "def gas_prom(tanques):\n",
    "    gas_prmdio=sum(tanques)/len(tanques)\n",
    "    print(\"El promedio total de comnustible es: \",gas_prmdio,\"%\")\n",
    "\n",
    "reporte_gas(85,73,76)\n",
    "    "
   ]
  },
  {
   "cell_type": "markdown",
   "metadata": {},
   "source": [
    "# Ejercicio 2: Trabajo con argumentos de palabra clave\n",
    "### Ejercicio : Trabajar con argumentos de palabras clave en funciones"
   ]
  },
  {
   "cell_type": "code",
   "execution_count": 21,
   "metadata": {},
   "outputs": [
    {
     "name": "stdout",
     "output_type": "stream",
     "text": [
      " ------------------REPORTE------------------------\n",
      "    Hora de PreLanzamiento: 18\n",
      "    Tiempo de vuelo: 90 Horas\n",
      "    Destino: Marte\n",
      "    Porcentaje del Tanque Externo: 97%\n",
      "    Porncentaje del Tanque Interno: 100%\n",
      "    \n",
      " ------------------REPORTE------------------------\n",
      "    Hora de PreLanzamiento: 20\n",
      "    Tiempo de vuelo: 28 Horas\n",
      "    Destino: Marte\n",
      "    Promedio del porcentaje en los Tanques: 98.0%\n",
      "    \n",
      " ------------------REPORTE------------------------\n",
      "    Hora de PreLanzamiento: 20\n",
      "    Tiempo de vuelo: 28 Horas\n",
      "    Destino: Marte\n",
      "    Promedio del porcentaje en los Tanques: 93.66666666666667%\n",
      "    El Tanque1 tiene un 100% de combustible restante\n",
      "    El Tanque2 tiene un 96% de combustible restante\n",
      "    El Tanque3 tiene un 85% de combustible restante\n"
     ]
    }
   ],
   "source": [
    "def reporte_piezas(Time_PreLaunch, Time_On, Destino, Tanq_Externo,Tanq_Interno):\n",
    "    print(f\"\"\" ------------------REPORTE------------------------\n",
    "    Hora de PreLanzamiento: {Time_PreLaunch}\n",
    "    Tiempo de vuelo: {Time_On} Horas\n",
    "    Destino: {Destino}\n",
    "    Porcentaje del Tanque Externo: {Tanq_Externo}%\n",
    "    Porncentaje del Tanque Interno: {Tanq_Interno}%\n",
    "    \"\"\")\n",
    "\n",
    "reporte_piezas(18, 90, \"Marte\", 97, 100)\n",
    "\n",
    "def reporte_piezas_Two(Time_PreLaunch, Destino,*Time_On, **Tanques):\n",
    "    print(f\"\"\" ------------------REPORTE------------------------\n",
    "    Hora de PreLanzamiento: {Time_PreLaunch}\n",
    "    Tiempo de vuelo: {sum(Time_On)} Horas\n",
    "    Destino: {Destino}\n",
    "    Promedio del porcentaje en los Tanques: {sum(Tanques.values())/len(Tanques.values())}%\n",
    "    \"\"\")\n",
    "\n",
    "reporte_piezas_Two(20,\"Marte\", 15,3,10, Tanque1=100,Tanque2=96)\n",
    "\n",
    "def reporte_piezas_Three(Time_PreLaunch, Destino,*Time_On, **Tanques):\n",
    "    print(f\"\"\" ------------------REPORTE------------------------\n",
    "    Hora de PreLanzamiento: {Time_PreLaunch}\n",
    "    Tiempo de vuelo: {sum(Time_On)} Horas\n",
    "    Destino: {Destino}\n",
    "    Promedio del porcentaje en los Tanques: {sum(Tanques.values())/len(Tanques.values())}%\"\"\")\n",
    "    for tk_name, tk_prcnt in Tanques.items():\n",
    "        print(f\"    El {tk_name} tiene un {tk_prcnt}% de combustible restante\")\n",
    "\n",
    "reporte_piezas_Three(20,\"Marte\", 15,3,10, Tanque1=100,Tanque2=96, Tanque3 = 85)"
   ]
  }
 ],
 "metadata": {
  "interpreter": {
   "hash": "043c419c123e2a651b4ec2ac750ff88e663f41ffa47bfb5af375ad20bb3d66bb"
  },
  "kernelspec": {
   "display_name": "Python 3.9.10 64-bit",
   "language": "python",
   "name": "python3"
  },
  "language_info": {
   "codemirror_mode": {
    "name": "ipython",
    "version": 3
   },
   "file_extension": ".py",
   "mimetype": "text/x-python",
   "name": "python",
   "nbconvert_exporter": "python",
   "pygments_lexer": "ipython3",
   "version": "3.9.10"
  },
  "orig_nbformat": 4
 },
 "nbformat": 4,
 "nbformat_minor": 2
}
